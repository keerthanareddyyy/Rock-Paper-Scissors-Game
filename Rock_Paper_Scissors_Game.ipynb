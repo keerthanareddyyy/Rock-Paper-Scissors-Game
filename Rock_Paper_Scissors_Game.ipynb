{
  "nbformat": 4,
  "nbformat_minor": 0,
  "metadata": {
    "colab": {
      "provenance": [],
      "authorship_tag": "ABX9TyOxiX/y48A9xvoAv5eVS6b2",
      "include_colab_link": true
    },
    "kernelspec": {
      "name": "python3",
      "display_name": "Python 3"
    },
    "language_info": {
      "name": "python"
    }
  },
  "cells": [
    {
      "cell_type": "markdown",
      "metadata": {
        "id": "view-in-github",
        "colab_type": "text"
      },
      "source": [
        "<a href=\"https://colab.research.google.com/github/keerthanareddyyy/Rock-Paper-Scissors-Game/blob/main/Rock_Paper_Scissors_Game.ipynb\" target=\"_parent\"><img src=\"https://colab.research.google.com/assets/colab-badge.svg\" alt=\"Open In Colab\"/></a>"
      ]
    },
    {
      "cell_type": "code",
      "execution_count": null,
      "metadata": {
        "colab": {
          "base_uri": "https://localhost:8080/"
        },
        "id": "tMnFaYp-GMJr",
        "outputId": "5dbfcbcc-ac38-4b77-9d2a-b5e569cb14f1"
      },
      "outputs": [
        {
          "output_type": "stream",
          "name": "stdout",
          "text": [
            "\n",
            "Options: rock, paper, scissors\n"
          ]
        }
      ],
      "source": [
        "import random\n",
        "\n",
        "def play_game():\n",
        "    choices = ['rock', 'paper', 'scissors']\n",
        "    user_score = 0\n",
        "    computer_score = 0\n",
        "\n",
        "    while True:\n",
        "        print(\"\\nOptions: rock, paper, scissors\")\n",
        "        user_choice = input(\"Enter your choice (or 'quit' to stop): \").lower()\n",
        "\n",
        "        if user_choice == 'quit':\n",
        "            print(f\"\\nFinal Score -> You: {user_score} | Computer: {computer_score}\")\n",
        "            print(\"Thanks for playing!\")\n",
        "            break\n",
        "\n",
        "        if user_choice not in choices:\n",
        "            print(\"Invalid choice. Please choose rock, paper, or scissors.\")\n",
        "            continue\n",
        "\n",
        "        computer_choice = random.choice(choices)\n",
        "        print(f\"Computer chose: {computer_choice}\")\n",
        "\n",
        "        if user_choice == computer_choice:\n",
        "            print(\"It's a tie!\")\n",
        "        elif (\n",
        "            (user_choice == 'rock' and computer_choice == 'scissors') or\n",
        "            (user_choice == 'scissors' and computer_choice == 'paper') or\n",
        "            (user_choice == 'paper' and computer_choice == 'rock')\n",
        "        ):\n",
        "            print(\"You win this round!\")\n",
        "            user_score += 1\n",
        "        else:\n",
        "            print(\"Computer wins this round!\")\n",
        "            computer_score += 1\n",
        "\n",
        "        print(f\"Current Score -> You: {user_score} | Computer: {computer_score}\")\n",
        "\n",
        "# Run the game\n",
        "play_game()\n"
      ]
    }
  ]
}